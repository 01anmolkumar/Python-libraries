{
 "cells": [
  {
   "cell_type": "code",
   "execution_count": 1,
   "id": "86b8331e-025a-4286-b31c-784feec777d9",
   "metadata": {},
   "outputs": [],
   "source": [
    "import numpy as np"
   ]
  },
  {
   "cell_type": "code",
   "execution_count": 2,
   "id": "3fa79077-1867-4571-8b47-c05e535aba38",
   "metadata": {},
   "outputs": [],
   "source": [
    "a=np.zeros(5) #return a new array of given shape and type,filled with zeros.\n"
   ]
  },
  {
   "cell_type": "code",
   "execution_count": 3,
   "id": "1ad88c1e-da3d-4c08-915f-e6e008712814",
   "metadata": {},
   "outputs": [
    {
     "data": {
      "text/plain": [
       "array([0., 0., 0., 0., 0.])"
      ]
     },
     "execution_count": 3,
     "metadata": {},
     "output_type": "execute_result"
    }
   ],
   "source": [
    "a"
   ]
  },
  {
   "cell_type": "code",
   "execution_count": 4,
   "id": "371050f3-afa9-4400-9990-0dcd0c17b070",
   "metadata": {},
   "outputs": [
    {
     "data": {
      "text/plain": [
       "1"
      ]
     },
     "execution_count": 4,
     "metadata": {},
     "output_type": "execute_result"
    }
   ],
   "source": [
    "a.ndim"
   ]
  },
  {
   "cell_type": "code",
   "execution_count": 5,
   "id": "c23f11e5-9394-435b-a2a7-f46293bba39d",
   "metadata": {},
   "outputs": [],
   "source": [
    "b=np.zeros((3,4))"
   ]
  },
  {
   "cell_type": "code",
   "execution_count": 6,
   "id": "3a09f1f4-253d-437f-97b6-246d2f8244a4",
   "metadata": {},
   "outputs": [
    {
     "data": {
      "text/plain": [
       "2"
      ]
     },
     "execution_count": 6,
     "metadata": {},
     "output_type": "execute_result"
    }
   ],
   "source": [
    "b.ndim"
   ]
  },
  {
   "cell_type": "code",
   "execution_count": 7,
   "id": "ba96f2fa-753b-43bc-ab5d-f545f944b91b",
   "metadata": {},
   "outputs": [
    {
     "data": {
      "text/plain": [
       "array([[1., 1., 1., 1.],\n",
       "       [1., 1., 1., 1.],\n",
       "       [1., 1., 1., 1.]])"
      ]
     },
     "execution_count": 7,
     "metadata": {},
     "output_type": "execute_result"
    }
   ],
   "source": [
    "np.ones((3,4))"
   ]
  },
  {
   "cell_type": "code",
   "execution_count": 8,
   "id": "efa066d4-c897-4250-909c-bedc6767f944",
   "metadata": {},
   "outputs": [
    {
     "ename": "AttributeError",
     "evalue": "module 'numpy' has no attribute 'twos'",
     "output_type": "error",
     "traceback": [
      "\u001b[1;31m---------------------------------------------------------------------------\u001b[0m",
      "\u001b[1;31mAttributeError\u001b[0m                            Traceback (most recent call last)",
      "Cell \u001b[1;32mIn[8], line 1\u001b[0m\n\u001b[1;32m----> 1\u001b[0m \u001b[43mnp\u001b[49m\u001b[38;5;241;43m.\u001b[39;49m\u001b[43mtwos\u001b[49m(\u001b[38;5;241m5\u001b[39m)\n",
      "File \u001b[1;32mC:\\Python312\\Lib\\site-packages\\numpy\\__init__.py:347\u001b[0m, in \u001b[0;36m__getattr__\u001b[1;34m(attr)\u001b[0m\n\u001b[0;32m    344\u001b[0m     \u001b[38;5;124m\"\u001b[39m\u001b[38;5;124mRemoved in NumPy 1.25.0\u001b[39m\u001b[38;5;124m\"\u001b[39m\n\u001b[0;32m    345\u001b[0m     \u001b[38;5;28;01mraise\u001b[39;00m \u001b[38;5;167;01mRuntimeError\u001b[39;00m(\u001b[38;5;124m\"\u001b[39m\u001b[38;5;124mTester was removed in NumPy 1.25.\u001b[39m\u001b[38;5;124m\"\u001b[39m)\n\u001b[1;32m--> 347\u001b[0m \u001b[38;5;28;01mraise\u001b[39;00m \u001b[38;5;167;01mAttributeError\u001b[39;00m(\u001b[38;5;124m\"\u001b[39m\u001b[38;5;124mmodule \u001b[39m\u001b[38;5;132;01m{!r}\u001b[39;00m\u001b[38;5;124m has no attribute \u001b[39m\u001b[38;5;124m\"\u001b[39m\n\u001b[0;32m    348\u001b[0m                      \u001b[38;5;124m\"\u001b[39m\u001b[38;5;132;01m{!r}\u001b[39;00m\u001b[38;5;124m\"\u001b[39m\u001b[38;5;241m.\u001b[39mformat(\u001b[38;5;18m__name__\u001b[39m, attr))\n",
      "\u001b[1;31mAttributeError\u001b[0m: module 'numpy' has no attribute 'twos'"
     ]
    }
   ],
   "source": [
    "np.twos(5)"
   ]
  },
  {
   "cell_type": "code",
   "execution_count": null,
   "id": "ddefac52-1572-43a2-b47b-70ee0e6d168a",
   "metadata": {},
   "outputs": [],
   "source": [
    "np.array([[2,2,2],[2,2,2]])"
   ]
  },
  {
   "cell_type": "code",
   "execution_count": null,
   "id": "252a9806-166f-4cd6-9324-38af4a94e4cd",
   "metadata": {},
   "outputs": [],
   "source": [
    "arr=np.zeros((3,4))"
   ]
  },
  {
   "cell_type": "code",
   "execution_count": null,
   "id": "66cf8199-5d70-481b-b6b3-3d93084cb6a7",
   "metadata": {},
   "outputs": [],
   "source": [
    "arr"
   ]
  },
  {
   "cell_type": "code",
   "execution_count": 9,
   "id": "bb68368b-8121-4eb7-b7ab-22403ba3026d",
   "metadata": {},
   "outputs": [
    {
     "ename": "NameError",
     "evalue": "name 'arr' is not defined",
     "output_type": "error",
     "traceback": [
      "\u001b[1;31m---------------------------------------------------------------------------\u001b[0m",
      "\u001b[1;31mNameError\u001b[0m                                 Traceback (most recent call last)",
      "Cell \u001b[1;32mIn[9], line 1\u001b[0m\n\u001b[1;32m----> 1\u001b[0m \u001b[43marr\u001b[49m\u001b[38;5;241m.\u001b[39mndim\n",
      "\u001b[1;31mNameError\u001b[0m: name 'arr' is not defined"
     ]
    }
   ],
   "source": [
    "arr.ndim"
   ]
  },
  {
   "cell_type": "code",
   "execution_count": 10,
   "id": "0a418260-3d2f-4ad1-b2e7-6954375afeb5",
   "metadata": {},
   "outputs": [
    {
     "data": {
      "text/plain": [
       "array([0.])"
      ]
     },
     "execution_count": 10,
     "metadata": {},
     "output_type": "execute_result"
    }
   ],
   "source": [
    "#3 dimensional array\n",
    "np.zeros(1)"
   ]
  },
  {
   "cell_type": "code",
   "execution_count": 11,
   "id": "5c4e5033-e9b1-4b9f-8477-7b310ee30e60",
   "metadata": {},
   "outputs": [
    {
     "data": {
      "text/plain": [
       "array([[0., 0., 0.],\n",
       "       [0., 0., 0.]])"
      ]
     },
     "execution_count": 11,
     "metadata": {},
     "output_type": "execute_result"
    }
   ],
   "source": [
    "np.zeros((2,3))"
   ]
  },
  {
   "cell_type": "code",
   "execution_count": 12,
   "id": "b7e26f30-26a2-4d3a-85cd-7f3900ea2812",
   "metadata": {},
   "outputs": [
    {
     "data": {
      "text/plain": [
       "2"
      ]
     },
     "execution_count": 12,
     "metadata": {},
     "output_type": "execute_result"
    }
   ],
   "source": [
    "arr=np.zeros((3,4))\n",
    "arr.ndim"
   ]
  },
  {
   "cell_type": "code",
   "execution_count": 13,
   "id": "009df911-0430-4f02-bf76-f9f9e92b833c",
   "metadata": {},
   "outputs": [
    {
     "data": {
      "text/plain": [
       "array([[[0., 0., 0., 0.],\n",
       "        [0., 0., 0., 0.],\n",
       "        [0., 0., 0., 0.]]])"
      ]
     },
     "execution_count": 13,
     "metadata": {},
     "output_type": "execute_result"
    }
   ],
   "source": [
    "arr = np.zeros((1,3,4))\n",
    "arr"
   ]
  },
  {
   "cell_type": "code",
   "execution_count": 14,
   "id": "bac8c4d9-ce65-4114-ad94-1d9551cf5f91",
   "metadata": {},
   "outputs": [
    {
     "data": {
      "text/plain": [
       "3"
      ]
     },
     "execution_count": 14,
     "metadata": {},
     "output_type": "execute_result"
    }
   ],
   "source": [
    " arr.ndim"
   ]
  },
  {
   "cell_type": "code",
   "execution_count": 15,
   "id": "233be125-fb5a-49ab-9a00-b29926eda1a5",
   "metadata": {},
   "outputs": [
    {
     "data": {
      "text/plain": [
       "array([[[[0., 0., 0., 0.],\n",
       "         [0., 0., 0., 0.],\n",
       "         [0., 0., 0., 0.]]]])"
      ]
     },
     "execution_count": 15,
     "metadata": {},
     "output_type": "execute_result"
    }
   ],
   "source": [
    "arr = np.zeros((1,1,3,4))\n",
    "arr"
   ]
  },
  {
   "cell_type": "code",
   "execution_count": 16,
   "id": "5829e65d-c536-4cad-8b70-2e2c512de080",
   "metadata": {},
   "outputs": [
    {
     "data": {
      "text/plain": [
       "4"
      ]
     },
     "execution_count": 16,
     "metadata": {},
     "output_type": "execute_result"
    }
   ],
   "source": [
    "arr.ndim"
   ]
  },
  {
   "cell_type": "code",
   "execution_count": 17,
   "id": "4defb9c5-7277-4097-a693-0591a41e1248",
   "metadata": {},
   "outputs": [
    {
     "data": {
      "text/plain": [
       "array([[[[[0., 0., 0., 0.],\n",
       "          [0., 0., 0., 0.],\n",
       "          [0., 0., 0., 0.]]]]])"
      ]
     },
     "execution_count": 17,
     "metadata": {},
     "output_type": "execute_result"
    }
   ],
   "source": [
    "arr = np.zeros((1,1,1,3,4))\n",
    "arr"
   ]
  },
  {
   "cell_type": "code",
   "execution_count": 18,
   "id": "074229c7-5992-425c-96a5-21deb6b144a3",
   "metadata": {},
   "outputs": [
    {
     "data": {
      "text/plain": [
       "5"
      ]
     },
     "execution_count": 18,
     "metadata": {},
     "output_type": "execute_result"
    }
   ],
   "source": [
    "arr.ndim"
   ]
  },
  {
   "cell_type": "code",
   "execution_count": 19,
   "id": "5eea2f48-538a-4c8d-89ab-377762eb9c19",
   "metadata": {},
   "outputs": [],
   "source": [
    "arr=np.ones((3,4))"
   ]
  },
  {
   "cell_type": "code",
   "execution_count": 20,
   "id": "1bf2ebdf-ac2a-4c96-bf0e-7a7f772b1678",
   "metadata": {},
   "outputs": [
    {
     "data": {
      "text/plain": [
       "2"
      ]
     },
     "execution_count": 20,
     "metadata": {},
     "output_type": "execute_result"
    }
   ],
   "source": [
    "arr.ndim"
   ]
  },
  {
   "cell_type": "code",
   "execution_count": 21,
   "id": "87db2a90-11f1-486b-8eb0-77a8898743d9",
   "metadata": {},
   "outputs": [
    {
     "data": {
      "text/plain": [
       "(3, 4)"
      ]
     },
     "execution_count": 21,
     "metadata": {},
     "output_type": "execute_result"
    }
   ],
   "source": [
    "arr.shape"
   ]
  },
  {
   "cell_type": "code",
   "execution_count": 22,
   "id": "60a51213-5e5c-45a1-ac6c-9aedf6e11a9c",
   "metadata": {},
   "outputs": [
    {
     "data": {
      "text/plain": [
       "array([[1., 1., 1., 1.],\n",
       "       [1., 1., 1., 1.],\n",
       "       [1., 1., 1., 1.]])"
      ]
     },
     "execution_count": 22,
     "metadata": {},
     "output_type": "execute_result"
    }
   ],
   "source": [
    "arr"
   ]
  },
  {
   "cell_type": "code",
   "execution_count": 23,
   "id": "369d7fb4-b972-4043-8d43-fd5398764325",
   "metadata": {},
   "outputs": [
    {
     "data": {
      "text/plain": [
       "array([[6., 6., 6., 6.],\n",
       "       [6., 6., 6., 6.],\n",
       "       [6., 6., 6., 6.]])"
      ]
     },
     "execution_count": 23,
     "metadata": {},
     "output_type": "execute_result"
    }
   ],
   "source": [
    "arr+5"
   ]
  },
  {
   "cell_type": "code",
   "execution_count": 24,
   "id": "ac0724a8-01bd-4452-88be-18e3cc9b9998",
   "metadata": {},
   "outputs": [],
   "source": [
    "a =arr*5"
   ]
  },
  {
   "cell_type": "code",
   "execution_count": 25,
   "id": "9a1aaf44-24a6-4d58-a10b-98da9b02ef34",
   "metadata": {},
   "outputs": [
    {
     "data": {
      "text/plain": [
       "array([[5., 5., 5., 5.],\n",
       "       [5., 5., 5., 5.],\n",
       "       [5., 5., 5., 5.]])"
      ]
     },
     "execution_count": 25,
     "metadata": {},
     "output_type": "execute_result"
    }
   ],
   "source": [
    "a"
   ]
  },
  {
   "cell_type": "code",
   "execution_count": 26,
   "id": "407a21de-04b6-4d2e-825a-21f7788688ea",
   "metadata": {},
   "outputs": [
    {
     "data": {
      "text/plain": [
       "array([[4., 4., 4., 4.],\n",
       "       [4., 4., 4., 4.],\n",
       "       [4., 4., 4., 4.]])"
      ]
     },
     "execution_count": 26,
     "metadata": {},
     "output_type": "execute_result"
    }
   ],
   "source": [
    "a-1"
   ]
  },
  {
   "cell_type": "code",
   "execution_count": 27,
   "id": "a5dd3173-a073-4d08-ae6b-a6d99b8ff953",
   "metadata": {},
   "outputs": [
    {
     "data": {
      "text/plain": [
       "array([[1., 0., 0.],\n",
       "       [0., 1., 0.],\n",
       "       [0., 0., 1.]])"
      ]
     },
     "execution_count": 27,
     "metadata": {},
     "output_type": "execute_result"
    }
   ],
   "source": [
    "np.eye(3) #return a 2-D array with ones on the diagonal and zeroes eleswhere."
   ]
  },
  {
   "cell_type": "code",
   "execution_count": 28,
   "id": "7c65f26f-3b78-4e21-a1d5-0cf5151666aa",
   "metadata": {},
   "outputs": [
    {
     "data": {
      "text/plain": [
       "array([[1, 0, 0],\n",
       "       [0, 1, 0],\n",
       "       [0, 0, 1]])"
      ]
     },
     "execution_count": 28,
     "metadata": {},
     "output_type": "execute_result"
    }
   ],
   "source": [
    "np.eye(3,dtype =int)"
   ]
  },
  {
   "cell_type": "code",
   "execution_count": 29,
   "id": "e4cb045a-b419-45ec-b654-47af2a166d07",
   "metadata": {},
   "outputs": [
    {
     "data": {
      "text/plain": [
       "array([[4., 4., 4., 4.],\n",
       "       [4., 4., 4., 4.],\n",
       "       [4., 4., 4., 4.]])"
      ]
     },
     "execution_count": 29,
     "metadata": {},
     "output_type": "execute_result"
    }
   ],
   "source": [
    "np.empty((3,4)) #return a new array of given shape and type, without initializing entries"
   ]
  },
  {
   "cell_type": "code",
   "execution_count": 30,
   "id": "95da4b1e-7206-4a84-851a-07557a6b28c1",
   "metadata": {},
   "outputs": [
    {
     "data": {
      "text/plain": [
       "1"
      ]
     },
     "execution_count": 30,
     "metadata": {},
     "output_type": "execute_result"
    }
   ],
   "source": [
    "#optional\n",
    "import random\n",
    "random.choice((1,2,3,4,5))"
   ]
  },
  {
   "cell_type": "code",
   "execution_count": 31,
   "id": "478eb1cf-2cbc-48ef-b84f-166c17134fbb",
   "metadata": {},
   "outputs": [
    {
     "data": {
      "text/plain": [
       "'y'"
      ]
     },
     "execution_count": 31,
     "metadata": {},
     "output_type": "execute_result"
    }
   ],
   "source": [
    "random.choice(\"ajay\")"
   ]
  },
  {
   "cell_type": "code",
   "execution_count": 32,
   "id": "530c79e5-cf51-4c7d-b3ba-97468a665e83",
   "metadata": {},
   "outputs": [
    {
     "data": {
      "text/plain": [
       "1"
      ]
     },
     "execution_count": 32,
     "metadata": {},
     "output_type": "execute_result"
    }
   ],
   "source": [
    "random.randrange(1,10)"
   ]
  },
  {
   "cell_type": "code",
   "execution_count": 33,
   "id": "a0bf5c9b-4804-4bf7-802b-2f4270599aa2",
   "metadata": {},
   "outputs": [
    {
     "data": {
      "text/plain": [
       "0.5131336721296588"
      ]
     },
     "execution_count": 33,
     "metadata": {},
     "output_type": "execute_result"
    }
   ],
   "source": [
    "random.random() #  a random no is genrated between 0(included) and 1(excluded)"
   ]
  },
  {
   "cell_type": "code",
   "execution_count": 34,
   "id": "a9dc635d-0d9f-4148-bcf1-234fb9f32e9a",
   "metadata": {},
   "outputs": [
    {
     "data": {
      "text/plain": [
       "[1, 2, 3, 4, 5]"
      ]
     },
     "execution_count": 34,
     "metadata": {},
     "output_type": "execute_result"
    }
   ],
   "source": [
    "lis =[1,2,3,4,5]\n",
    "lis"
   ]
  },
  {
   "cell_type": "code",
   "execution_count": 35,
   "id": "d849714c-0caf-4b08-9120-c9031e11df37",
   "metadata": {},
   "outputs": [],
   "source": [
    "random.shuffle(lis)"
   ]
  },
  {
   "cell_type": "code",
   "execution_count": 36,
   "id": "b5f3030d-f287-4152-88b2-860af728b0d1",
   "metadata": {},
   "outputs": [
    {
     "data": {
      "text/plain": [
       "[5, 4, 2, 1, 3]"
      ]
     },
     "execution_count": 36,
     "metadata": {},
     "output_type": "execute_result"
    }
   ],
   "source": [
    "lis"
   ]
  },
  {
   "cell_type": "code",
   "execution_count": 37,
   "id": "b65b2130-3903-48f2-bd10-99c837f45a30",
   "metadata": {},
   "outputs": [
    {
     "data": {
      "text/plain": [
       "12.280478058123071"
      ]
     },
     "execution_count": 37,
     "metadata": {},
     "output_type": "execute_result"
    }
   ],
   "source": [
    "random.uniform(7,14)"
   ]
  },
  {
   "cell_type": "code",
   "execution_count": 38,
   "id": "6a95a100-115b-4db7-8cae-473d1b3a1855",
   "metadata": {},
   "outputs": [
    {
     "data": {
      "text/plain": [
       "array([], dtype=float64)"
      ]
     },
     "execution_count": 38,
     "metadata": {},
     "output_type": "execute_result"
    }
   ],
   "source": [
    "#random number related concept in numpy\n",
    "np.array([])"
   ]
  },
  {
   "cell_type": "code",
   "execution_count": 39,
   "id": "f2c90f94-1fc2-41b7-974c-ff7207be515e",
   "metadata": {},
   "outputs": [
    {
     "data": {
      "text/plain": [
       "0.829743045767958"
      ]
     },
     "execution_count": 39,
     "metadata": {},
     "output_type": "execute_result"
    }
   ],
   "source": [
    "np.random.random_sample()"
   ]
  },
  {
   "cell_type": "code",
   "execution_count": 40,
   "id": "33963e9a-3616-4a9d-aa3a-5951d47d6ae2",
   "metadata": {},
   "outputs": [
    {
     "data": {
      "text/plain": [
       "array([0.34931139, 0.6774733 , 0.19841669, 0.88785725, 0.27665139])"
      ]
     },
     "execution_count": 40,
     "metadata": {},
     "output_type": "execute_result"
    }
   ],
   "source": [
    "np.random.random_sample((5, ))"
   ]
  },
  {
   "cell_type": "code",
   "execution_count": 41,
   "id": "2209e659-39fa-406e-827b-157431bf5863",
   "metadata": {},
   "outputs": [
    {
     "data": {
      "text/plain": [
       "array([0.80863798])"
      ]
     },
     "execution_count": 41,
     "metadata": {},
     "output_type": "execute_result"
    }
   ],
   "source": [
    "np.random.rand(1)"
   ]
  },
  {
   "cell_type": "code",
   "execution_count": 42,
   "id": "2963d2e7-f4ca-4994-aede-a82f3269f193",
   "metadata": {},
   "outputs": [
    {
     "data": {
      "text/plain": [
       "array([[0.74930873, 0.43377323, 0.24899493],\n",
       "       [0.2207124 , 0.84299141, 0.68461937]])"
      ]
     },
     "execution_count": 42,
     "metadata": {},
     "output_type": "execute_result"
    }
   ],
   "source": [
    "np.random.rand(2,3)"
   ]
  },
  {
   "cell_type": "code",
   "execution_count": 43,
   "id": "946dc6db-07ca-4d33-896a-ecf0da404b39",
   "metadata": {},
   "outputs": [
    {
     "data": {
      "text/plain": [
       "array([[-0.42070657,  0.26245146, -0.77418794],\n",
       "       [ 0.53282384,  0.97997083, -0.12567715]])"
      ]
     },
     "execution_count": 43,
     "metadata": {},
     "output_type": "execute_result"
    }
   ],
   "source": [
    "np.random.randn(2,3)"
   ]
  },
  {
   "cell_type": "code",
   "execution_count": 44,
   "id": "684a218c-05d0-4ac5-8ebc-ba2f9d216732",
   "metadata": {},
   "outputs": [],
   "source": [
    "arr=np.random.randint(1,5, size=(3,4))"
   ]
  },
  {
   "cell_type": "code",
   "execution_count": 45,
   "id": "1676fc25-ac0f-4cdc-9e48-7da76f097808",
   "metadata": {},
   "outputs": [
    {
     "data": {
      "text/plain": [
       "2"
      ]
     },
     "execution_count": 45,
     "metadata": {},
     "output_type": "execute_result"
    }
   ],
   "source": [
    "arr.ndim"
   ]
  },
  {
   "cell_type": "code",
   "execution_count": 46,
   "id": "cb0ac4e6-cc63-433c-86eb-12ec63e88a47",
   "metadata": {},
   "outputs": [
    {
     "data": {
      "text/plain": [
       "(3, 4)"
      ]
     },
     "execution_count": 46,
     "metadata": {},
     "output_type": "execute_result"
    }
   ],
   "source": [
    "arr.shape\n"
   ]
  },
  {
   "cell_type": "code",
   "execution_count": 47,
   "id": "4d7f24b2-20cb-4adb-9df2-84afcc331170",
   "metadata": {},
   "outputs": [
    {
     "data": {
      "text/plain": [
       "12"
      ]
     },
     "execution_count": 47,
     "metadata": {},
     "output_type": "execute_result"
    }
   ],
   "source": [
    "arr.size"
   ]
  },
  {
   "cell_type": "code",
   "execution_count": 48,
   "id": "96ba0dc8-114f-4ac5-b580-2ac28e5dcd77",
   "metadata": {},
   "outputs": [
    {
     "data": {
      "text/plain": [
       "array([[4, 1, 1, 3],\n",
       "       [2, 3, 2, 4],\n",
       "       [4, 4, 3, 4]])"
      ]
     },
     "execution_count": 48,
     "metadata": {},
     "output_type": "execute_result"
    }
   ],
   "source": [
    "arr"
   ]
  },
  {
   "cell_type": "code",
   "execution_count": 49,
   "id": "65b111aa-cf89-4b65-a2ae-b8b1b2c3ce6e",
   "metadata": {},
   "outputs": [],
   "source": [
    "#reshapping the array\n",
    "arr1=arr.reshape(2,6)"
   ]
  },
  {
   "cell_type": "code",
   "execution_count": 50,
   "id": "e84369e8-387b-4ad5-b9dd-53b2af75a1a3",
   "metadata": {},
   "outputs": [
    {
     "data": {
      "text/plain": [
       "array([[4, 1, 1, 3, 2, 3],\n",
       "       [2, 4, 4, 4, 3, 4]])"
      ]
     },
     "execution_count": 50,
     "metadata": {},
     "output_type": "execute_result"
    }
   ],
   "source": [
    "arr1"
   ]
  },
  {
   "cell_type": "code",
   "execution_count": 51,
   "id": "61e4eb15-85e7-4b88-bf72-ac41e4538597",
   "metadata": {},
   "outputs": [
    {
     "data": {
      "text/plain": [
       "12"
      ]
     },
     "execution_count": 51,
     "metadata": {},
     "output_type": "execute_result"
    }
   ],
   "source": [
    "arr1.size"
   ]
  },
  {
   "cell_type": "code",
   "execution_count": 52,
   "id": "fd5bc321-2355-40a0-b739-fb96ac54f1ef",
   "metadata": {},
   "outputs": [
    {
     "data": {
      "text/plain": [
       "array([[4, 1, 1, 3],\n",
       "       [2, 3, 2, 4],\n",
       "       [4, 4, 3, 4]])"
      ]
     },
     "execution_count": 52,
     "metadata": {},
     "output_type": "execute_result"
    }
   ],
   "source": [
    "arr"
   ]
  },
  {
   "cell_type": "code",
   "execution_count": 53,
   "id": "662739e5-7825-4953-a168-25f2f0c9b752",
   "metadata": {},
   "outputs": [
    {
     "data": {
      "text/plain": [
       "12"
      ]
     },
     "execution_count": 53,
     "metadata": {},
     "output_type": "execute_result"
    }
   ],
   "source": [
    "arr.size"
   ]
  },
  {
   "cell_type": "code",
   "execution_count": 54,
   "id": "c0cce935-0560-42f3-98a9-9f690f20eb36",
   "metadata": {},
   "outputs": [
    {
     "data": {
      "text/plain": [
       "array([[4, 1, 1, 3],\n",
       "       [2, 3, 2, 4],\n",
       "       [4, 4, 3, 4]])"
      ]
     },
     "execution_count": 54,
     "metadata": {},
     "output_type": "execute_result"
    }
   ],
   "source": [
    "arr"
   ]
  },
  {
   "cell_type": "code",
   "execution_count": 55,
   "id": "27d186e6-c910-434b-adaa-9450c4fc76b8",
   "metadata": {},
   "outputs": [],
   "source": [
    "#array size will not change , always resape parameter should be multiplication of original array size"
   ]
  },
  {
   "cell_type": "code",
   "execution_count": 56,
   "id": "77142776-703e-495b-9211-826ebceb3806",
   "metadata": {},
   "outputs": [
    {
     "data": {
      "text/plain": [
       "array([[4, 1, 1, 3],\n",
       "       [2, 3, 2, 4],\n",
       "       [4, 4, 3, 4]])"
      ]
     },
     "execution_count": 56,
     "metadata": {},
     "output_type": "execute_result"
    }
   ],
   "source": [
    "arr"
   ]
  },
  {
   "cell_type": "code",
   "execution_count": 57,
   "id": "34d354c8-49fc-4221-b76d-de98add2cb9c",
   "metadata": {},
   "outputs": [
    {
     "data": {
      "text/plain": [
       "12"
      ]
     },
     "execution_count": 57,
     "metadata": {},
     "output_type": "execute_result"
    }
   ],
   "source": [
    "arr.size"
   ]
  },
  {
   "cell_type": "code",
   "execution_count": 58,
   "id": "da2e5080-2a4a-41d7-8c3f-7d45a45fc37c",
   "metadata": {},
   "outputs": [
    {
     "data": {
      "text/plain": [
       "array([[4, 1, 1, 3, 2, 3, 2, 4, 4, 4, 3, 4]])"
      ]
     },
     "execution_count": 58,
     "metadata": {},
     "output_type": "execute_result"
    }
   ],
   "source": [
    "arr.reshape(1,12)"
   ]
  },
  {
   "cell_type": "code",
   "execution_count": 59,
   "id": "c7d6bffa-0ecc-40eb-a9d0-bc302dde72cc",
   "metadata": {},
   "outputs": [
    {
     "data": {
      "text/plain": [
       "array([[4],\n",
       "       [1],\n",
       "       [1],\n",
       "       [3],\n",
       "       [2],\n",
       "       [3],\n",
       "       [2],\n",
       "       [4],\n",
       "       [4],\n",
       "       [4],\n",
       "       [3],\n",
       "       [4]])"
      ]
     },
     "execution_count": 59,
     "metadata": {},
     "output_type": "execute_result"
    }
   ],
   "source": [
    "arr.reshape(12,1)"
   ]
  },
  {
   "cell_type": "code",
   "execution_count": 60,
   "id": "1c4a238f-a005-409e-bfff-a43e7b12e6bb",
   "metadata": {},
   "outputs": [
    {
     "data": {
      "text/plain": [
       "array([[4, 1, 1, 3],\n",
       "       [2, 3, 2, 4],\n",
       "       [4, 4, 3, 4]])"
      ]
     },
     "execution_count": 60,
     "metadata": {},
     "output_type": "execute_result"
    }
   ],
   "source": [
    "arr.reshape(3,4)"
   ]
  },
  {
   "cell_type": "code",
   "execution_count": 61,
   "id": "8400c8c4-e506-4ec7-956c-cce27dd8b1c3",
   "metadata": {},
   "outputs": [
    {
     "data": {
      "text/plain": [
       "array([[4, 1, 1],\n",
       "       [3, 2, 3],\n",
       "       [2, 4, 4],\n",
       "       [4, 3, 4]])"
      ]
     },
     "execution_count": 61,
     "metadata": {},
     "output_type": "execute_result"
    }
   ],
   "source": [
    "#case when you dont know is reshape what should be the column count\n",
    "\n",
    "arr.reshape(4,-1)"
   ]
  },
  {
   "cell_type": "code",
   "execution_count": 62,
   "id": "b4e101a0-0745-40ff-b513-b65b7655c657",
   "metadata": {},
   "outputs": [
    {
     "data": {
      "text/plain": [
       "array([[4, 1, 1, 3, 2, 3],\n",
       "       [2, 4, 4, 4, 3, 4]])"
      ]
     },
     "execution_count": 62,
     "metadata": {},
     "output_type": "execute_result"
    }
   ],
   "source": [
    "arr.reshape(2,-1)"
   ]
  },
  {
   "cell_type": "code",
   "execution_count": 66,
   "id": "2b092258-a63a-4afd-a1fd-d194a440b636",
   "metadata": {},
   "outputs": [
    {
     "data": {
      "text/plain": [
       "array([[4, 1, 1],\n",
       "       [3, 2, 3],\n",
       "       [2, 4, 4],\n",
       "       [4, 3, 4]])"
      ]
     },
     "execution_count": 66,
     "metadata": {},
     "output_type": "execute_result"
    }
   ],
   "source": [
    "arr1=arr.reshape(-1,3) #you know count but don't know row count\n",
    "arr1"
   ]
  },
  {
   "cell_type": "code",
   "execution_count": 67,
   "id": "63eb21c0-1673-4542-a32d-0db373a22365",
   "metadata": {},
   "outputs": [
    {
     "data": {
      "text/plain": [
       "12"
      ]
     },
     "execution_count": 67,
     "metadata": {},
     "output_type": "execute_result"
    }
   ],
   "source": [
    "arr1.size"
   ]
  },
  {
   "cell_type": "code",
   "execution_count": 68,
   "id": "2d7a0632-fb84-496a-8b23-cc3a8db9d74a",
   "metadata": {},
   "outputs": [
    {
     "data": {
      "text/plain": [
       "array([[4],\n",
       "       [1],\n",
       "       [1],\n",
       "       [3],\n",
       "       [2],\n",
       "       [3],\n",
       "       [2],\n",
       "       [4],\n",
       "       [4],\n",
       "       [4],\n",
       "       [3],\n",
       "       [4]])"
      ]
     },
     "execution_count": 68,
     "metadata": {},
     "output_type": "execute_result"
    }
   ],
   "source": [
    "arr.reshape(12,1)"
   ]
  },
  {
   "cell_type": "code",
   "execution_count": 69,
   "id": "5125cad6-4dce-4a81-a11e-c6e0277ce592",
   "metadata": {},
   "outputs": [
    {
     "data": {
      "text/plain": [
       "array([[4, 1, 1, 3],\n",
       "       [2, 3, 2, 4],\n",
       "       [4, 4, 3, 4]])"
      ]
     },
     "execution_count": 69,
     "metadata": {},
     "output_type": "execute_result"
    }
   ],
   "source": [
    "arr.reshape(12,1).base #to see the original array"
   ]
  },
  {
   "cell_type": "code",
   "execution_count": 70,
   "id": "ce6c9021-95e9-4799-94a4-922bbda9d457",
   "metadata": {},
   "outputs": [
    {
     "data": {
      "text/plain": [
       "array([[[4, 1, 1],\n",
       "        [3, 2, 3]],\n",
       "\n",
       "       [[2, 4, 4],\n",
       "        [4, 3, 4]]])"
      ]
     },
     "execution_count": 70,
     "metadata": {},
     "output_type": "execute_result"
    }
   ],
   "source": [
    "arr.reshape(2,2,3)"
   ]
  },
  {
   "cell_type": "code",
   "execution_count": 72,
   "id": "cbadede7-85a7-466e-8ea3-d581c8c78534",
   "metadata": {},
   "outputs": [
    {
     "data": {
      "text/plain": [
       "4"
      ]
     },
     "execution_count": 72,
     "metadata": {},
     "output_type": "execute_result"
    }
   ],
   "source": [
    "arr.reshape(1,2,2,3).ndim"
   ]
  },
  {
   "cell_type": "code",
   "execution_count": 73,
   "id": "f9092b5d-01e6-44db-b5e3-a1f6dbdbc986",
   "metadata": {},
   "outputs": [
    {
     "data": {
      "text/plain": [
       "array([[[4],\n",
       "        [1],\n",
       "        [1]],\n",
       "\n",
       "       [[3],\n",
       "        [2],\n",
       "        [3]],\n",
       "\n",
       "       [[2],\n",
       "        [4],\n",
       "        [4]],\n",
       "\n",
       "       [[4],\n",
       "        [3],\n",
       "        [4]]])"
      ]
     },
     "execution_count": 73,
     "metadata": {},
     "output_type": "execute_result"
    }
   ],
   "source": [
    "arr.reshape(4,3,1) #3rows 1column repetad 4 times in the thired dimensional"
   ]
  },
  {
   "cell_type": "code",
   "execution_count": 76,
   "id": "2b524e36-d140-4121-b7b5-29d0346246ff",
   "metadata": {},
   "outputs": [],
   "source": [
    "#condition on array\n",
    "\n",
    "arr1 = np.random.randint(1,10,(5,6))"
   ]
  },
  {
   "cell_type": "code",
   "execution_count": 77,
   "id": "75cde441-cfa0-4435-846f-76c423f7dfd1",
   "metadata": {},
   "outputs": [
    {
     "data": {
      "text/plain": [
       "array([[9, 6, 5, 8, 2, 8],\n",
       "       [2, 7, 8, 4, 4, 8],\n",
       "       [1, 4, 6, 6, 9, 8],\n",
       "       [4, 9, 5, 3, 5, 4],\n",
       "       [5, 9, 2, 9, 7, 5]])"
      ]
     },
     "execution_count": 77,
     "metadata": {},
     "output_type": "execute_result"
    }
   ],
   "source": [
    "arr1"
   ]
  },
  {
   "cell_type": "code",
   "execution_count": 79,
   "id": "1a963d91-ccc5-4969-93f6-bdba9882fff2",
   "metadata": {},
   "outputs": [
    {
     "data": {
      "text/plain": [
       "(5, 6)"
      ]
     },
     "execution_count": 79,
     "metadata": {},
     "output_type": "execute_result"
    }
   ],
   "source": [
    "arr1.shape"
   ]
  },
  {
   "cell_type": "code",
   "execution_count": 80,
   "id": "b68a70c4-8b7b-4074-af2a-e7fb653394c8",
   "metadata": {},
   "outputs": [
    {
     "data": {
      "text/plain": [
       "2"
      ]
     },
     "execution_count": 80,
     "metadata": {},
     "output_type": "execute_result"
    }
   ],
   "source": [
    "arr1.ndim"
   ]
  },
  {
   "cell_type": "code",
   "execution_count": 81,
   "id": "5351627d-3b7e-4a93-ba8e-c6c6fcf87b60",
   "metadata": {},
   "outputs": [
    {
     "data": {
      "text/plain": [
       "30"
      ]
     },
     "execution_count": 81,
     "metadata": {},
     "output_type": "execute_result"
    }
   ],
   "source": [
    "arr1.size"
   ]
  },
  {
   "cell_type": "code",
   "execution_count": 82,
   "id": "c79dc5ce-f5ab-4223-8671-121d6d12b83d",
   "metadata": {},
   "outputs": [
    {
     "data": {
      "text/plain": [
       "array([[ True,  True,  True,  True, False,  True],\n",
       "       [False,  True,  True,  True,  True,  True],\n",
       "       [False,  True,  True,  True,  True,  True],\n",
       "       [ True,  True,  True, False,  True,  True],\n",
       "       [ True,  True, False,  True,  True,  True]])"
      ]
     },
     "execution_count": 82,
     "metadata": {},
     "output_type": "execute_result"
    }
   ],
   "source": [
    "arr1> 3"
   ]
  },
  {
   "cell_type": "code",
   "execution_count": 84,
   "id": "9c209102-1d17-429c-801b-5007174ab4cc",
   "metadata": {},
   "outputs": [
    {
     "data": {
      "text/plain": [
       "array([2, 2, 1, 2])"
      ]
     },
     "execution_count": 84,
     "metadata": {},
     "output_type": "execute_result"
    }
   ],
   "source": [
    "arr1[arr1<3]"
   ]
  },
  {
   "cell_type": "code",
   "execution_count": 85,
   "id": "b44be939-004d-4839-ae5d-9bd99a773211",
   "metadata": {},
   "outputs": [
    {
     "data": {
      "text/plain": [
       "array([[9, 6, 5, 8, 2, 8],\n",
       "       [2, 7, 8, 4, 4, 8],\n",
       "       [1, 4, 6, 6, 9, 8],\n",
       "       [4, 9, 5, 3, 5, 4],\n",
       "       [5, 9, 2, 9, 7, 5]])"
      ]
     },
     "execution_count": 85,
     "metadata": {},
     "output_type": "execute_result"
    }
   ],
   "source": [
    "arr1"
   ]
  },
  {
   "cell_type": "code",
   "execution_count": 86,
   "id": "42c9fec5-55f6-4610-9093-2078dce9f2ad",
   "metadata": {},
   "outputs": [
    {
     "data": {
      "text/plain": [
       "array([9, 6, 5, 8, 2, 8])"
      ]
     },
     "execution_count": 86,
     "metadata": {},
     "output_type": "execute_result"
    }
   ],
   "source": [
    "#to acess element in the array\n",
    "arr1[0]"
   ]
  },
  {
   "cell_type": "code",
   "execution_count": 87,
   "id": "5c09ecdf-52a1-4276-9172-aeb44b210ea2",
   "metadata": {},
   "outputs": [
    {
     "data": {
      "text/plain": [
       "array([2, 3, 2, 4])"
      ]
     },
     "execution_count": 87,
     "metadata": {},
     "output_type": "execute_result"
    }
   ],
   "source": [
    "arr[1]"
   ]
  },
  {
   "cell_type": "code",
   "execution_count": 88,
   "id": "d1a358cb-4498-4449-8137-eb1291a5c62e",
   "metadata": {},
   "outputs": [
    {
     "data": {
      "text/plain": [
       "2"
      ]
     },
     "execution_count": 88,
     "metadata": {},
     "output_type": "execute_result"
    }
   ],
   "source": [
    "arr1[1][0]"
   ]
  },
  {
   "cell_type": "code",
   "execution_count": 89,
   "id": "0914579a-e9d2-4c2e-be9a-0fa48b3bc980",
   "metadata": {},
   "outputs": [
    {
     "data": {
      "text/plain": [
       "array([[9, 6, 5, 8, 2, 8],\n",
       "       [2, 7, 8, 4, 4, 8],\n",
       "       [1, 4, 6, 6, 9, 8],\n",
       "       [4, 9, 5, 3, 5, 4],\n",
       "       [5, 9, 2, 9, 7, 5]])"
      ]
     },
     "execution_count": 89,
     "metadata": {},
     "output_type": "execute_result"
    }
   ],
   "source": [
    "arr1"
   ]
  },
  {
   "cell_type": "code",
   "execution_count": 91,
   "id": "1179a18b-6cab-4ca4-965b-c036d95b3e0c",
   "metadata": {},
   "outputs": [
    {
     "data": {
      "text/plain": [
       "array([[9, 6, 5, 8, 2, 8],\n",
       "       [2, 7, 8, 4, 4, 8],\n",
       "       [1, 4, 6, 6, 9, 8]])"
      ]
     },
     "execution_count": 91,
     "metadata": {},
     "output_type": "execute_result"
    }
   ],
   "source": [
    "arr1[0:3] #0th row ,1st row ,2nd row"
   ]
  },
  {
   "cell_type": "code",
   "execution_count": 92,
   "id": "4da2f75e-c187-49a2-b19f-7919f8b10663",
   "metadata": {},
   "outputs": [
    {
     "data": {
      "text/plain": [
       "array([[9, 5],\n",
       "       [2, 8],\n",
       "       [1, 6]])"
      ]
     },
     "execution_count": 92,
     "metadata": {},
     "output_type": "execute_result"
    }
   ],
   "source": [
    "arr1[0:3,[0,2]] # 0th to 2nd and 0th and 2nd column"
   ]
  },
  {
   "cell_type": "code",
   "execution_count": 93,
   "id": "150bece9-f1e8-4bf5-894c-417ca997fbe3",
   "metadata": {},
   "outputs": [],
   "source": [
    "#slicing on both row and column"
   ]
  },
  {
   "cell_type": "code",
   "execution_count": 94,
   "id": "35309276-9570-4da5-861e-b05792eb29c1",
   "metadata": {},
   "outputs": [
    {
     "data": {
      "text/plain": [
       "array([[9, 6, 5, 8, 2, 8],\n",
       "       [2, 7, 8, 4, 4, 8],\n",
       "       [1, 4, 6, 6, 9, 8],\n",
       "       [4, 9, 5, 3, 5, 4],\n",
       "       [5, 9, 2, 9, 7, 5]])"
      ]
     },
     "execution_count": 94,
     "metadata": {},
     "output_type": "execute_result"
    }
   ],
   "source": [
    "arr1"
   ]
  },
  {
   "cell_type": "code",
   "execution_count": 95,
   "id": "9fcd8354-faa1-4e68-8f44-a595d5d324ac",
   "metadata": {},
   "outputs": [
    {
     "data": {
      "text/plain": [
       "array([[6, 5],\n",
       "       [7, 8],\n",
       "       [4, 6]])"
      ]
     },
     "execution_count": 95,
     "metadata": {},
     "output_type": "execute_result"
    }
   ],
   "source": [
    "arr1[0:3, 1:3]"
   ]
  },
  {
   "cell_type": "code",
   "execution_count": 96,
   "id": "80ca0941-d8c5-4cb5-bc03-67e1d2540c4b",
   "metadata": {},
   "outputs": [
    {
     "data": {
      "text/plain": [
       "array([[9, 6],\n",
       "       [2, 7]])"
      ]
     },
     "execution_count": 96,
     "metadata": {},
     "output_type": "execute_result"
    }
   ],
   "source": [
    "arr1[0:2,[0,1]]"
   ]
  },
  {
   "cell_type": "code",
   "execution_count": 97,
   "id": "096dba91-cd40-4e0f-b2cd-393174133d37",
   "metadata": {},
   "outputs": [
    {
     "data": {
      "text/plain": [
       "array([6, 8])"
      ]
     },
     "execution_count": 97,
     "metadata": {},
     "output_type": "execute_result"
    }
   ],
   "source": [
    "arr1[0,[1,3]]"
   ]
  },
  {
   "cell_type": "code",
   "execution_count": 98,
   "id": "af58ced3-c321-4992-ba97-f7d0185a8375",
   "metadata": {},
   "outputs": [
    {
     "data": {
      "text/plain": [
       "array([[1, 6],\n",
       "       [4, 3]])"
      ]
     },
     "execution_count": 98,
     "metadata": {},
     "output_type": "execute_result"
    }
   ],
   "source": [
    "arr1[2:4,[0,3]]"
   ]
  },
  {
   "cell_type": "code",
   "execution_count": 99,
   "id": "41cb51d8-8ec8-4134-bc28-ab2ab0f381dc",
   "metadata": {},
   "outputs": [
    {
     "data": {
      "text/plain": [
       "array([[1, 4, 6, 6, 9, 8],\n",
       "       [4, 9, 5, 3, 5, 4],\n",
       "       [5, 9, 2, 9, 7, 5]])"
      ]
     },
     "execution_count": 99,
     "metadata": {},
     "output_type": "execute_result"
    }
   ],
   "source": [
    "arr1[2:5]"
   ]
  },
  {
   "cell_type": "code",
   "execution_count": 100,
   "id": "d9e0dad4-2c4d-4a8b-a845-83ec7ed6678b",
   "metadata": {},
   "outputs": [
    {
     "data": {
      "text/plain": [
       "array([[1, 4],\n",
       "       [4, 9],\n",
       "       [5, 9]])"
      ]
     },
     "execution_count": 100,
     "metadata": {},
     "output_type": "execute_result"
    }
   ],
   "source": [
    "arr1[2:5,0:2]"
   ]
  },
  {
   "cell_type": "code",
   "execution_count": 104,
   "id": "47e0bf3a-38a0-45cc-8c36-179f30fd01bb",
   "metadata": {},
   "outputs": [],
   "source": [
    "#mathematical operation on two arrays\n",
    "arr1= np.random.randint(1,3,(3,3))\n",
    "arr2= np.random.randint(1,3,(3,3))\n"
   ]
  },
  {
   "cell_type": "code",
   "execution_count": 105,
   "id": "ae89bbfd-118e-4925-beb9-a189448d5c91",
   "metadata": {},
   "outputs": [
    {
     "data": {
      "text/plain": [
       "array([[2, 2, 1],\n",
       "       [1, 1, 1],\n",
       "       [1, 1, 1]])"
      ]
     },
     "execution_count": 105,
     "metadata": {},
     "output_type": "execute_result"
    }
   ],
   "source": [
    "arr1"
   ]
  },
  {
   "cell_type": "code",
   "execution_count": 106,
   "id": "0a21dfe9-d1d0-4311-88dc-eead0ce874ce",
   "metadata": {},
   "outputs": [
    {
     "data": {
      "text/plain": [
       "array([[2, 1, 1],\n",
       "       [2, 1, 1],\n",
       "       [2, 2, 2]])"
      ]
     },
     "execution_count": 106,
     "metadata": {},
     "output_type": "execute_result"
    }
   ],
   "source": [
    "arr2"
   ]
  },
  {
   "cell_type": "code",
   "execution_count": 107,
   "id": "03b8f873-6ba5-42ea-b8f7-adbf3960fc64",
   "metadata": {},
   "outputs": [
    {
     "data": {
      "text/plain": [
       "array([[4, 3, 2],\n",
       "       [3, 2, 2],\n",
       "       [3, 3, 3]])"
      ]
     },
     "execution_count": 107,
     "metadata": {},
     "output_type": "execute_result"
    }
   ],
   "source": [
    "arr1+arr2 #indx wise addition"
   ]
  },
  {
   "cell_type": "code",
   "execution_count": 108,
   "id": "86c46de4-747e-4550-b11e-87c36ce0ffe6",
   "metadata": {},
   "outputs": [
    {
     "data": {
      "text/plain": [
       "array([[ 0,  1,  0],\n",
       "       [-1,  0,  0],\n",
       "       [-1, -1, -1]])"
      ]
     },
     "execution_count": 108,
     "metadata": {},
     "output_type": "execute_result"
    }
   ],
   "source": [
    "arr1-arr2 #indx wise subtraction"
   ]
  },
  {
   "cell_type": "code",
   "execution_count": 109,
   "id": "49445789-fa03-4ca9-b397-c38b557fa69b",
   "metadata": {},
   "outputs": [
    {
     "data": {
      "text/plain": [
       "array([[4, 2, 1],\n",
       "       [2, 1, 1],\n",
       "       [2, 2, 2]])"
      ]
     },
     "execution_count": 109,
     "metadata": {},
     "output_type": "execute_result"
    }
   ],
   "source": [
    "arr1*arr2 #indx wise multiplication"
   ]
  },
  {
   "cell_type": "code",
   "execution_count": 110,
   "id": "aa4daad8-96d7-499c-aef2-4dc058fa4b48",
   "metadata": {},
   "outputs": [
    {
     "data": {
      "text/plain": [
       "(array([[2, 2, 1],\n",
       "        [1, 1, 1],\n",
       "        [1, 1, 1]]),\n",
       " array([[2, 1, 1],\n",
       "        [2, 1, 1],\n",
       "        [2, 2, 2]]))"
      ]
     },
     "execution_count": 110,
     "metadata": {},
     "output_type": "execute_result"
    }
   ],
   "source": [
    "arr1,arr2"
   ]
  },
  {
   "cell_type": "code",
   "execution_count": 111,
   "id": "89c3d714-a723-447a-b815-0749690a9eed",
   "metadata": {},
   "outputs": [
    {
     "data": {
      "text/plain": [
       "array([[1. , 2. , 1. ],\n",
       "       [0.5, 1. , 1. ],\n",
       "       [0.5, 0.5, 0.5]])"
      ]
     },
     "execution_count": 111,
     "metadata": {},
     "output_type": "execute_result"
    }
   ],
   "source": [
    "arr1/arr2 #index wise division"
   ]
  },
  {
   "cell_type": "code",
   "execution_count": 116,
   "id": "b9492362-6764-4298-b68c-364122a03fcc",
   "metadata": {},
   "outputs": [
    {
     "ename": "ZeroDivisionError",
     "evalue": "division by zero",
     "output_type": "error",
     "traceback": [
      "\u001b[1;31m---------------------------------------------------------------------------\u001b[0m",
      "\u001b[1;31mZeroDivisionError\u001b[0m                         Traceback (most recent call last)",
      "Cell \u001b[1;32mIn[116], line 1\u001b[0m\n\u001b[1;32m----> 1\u001b[0m \u001b[38;5;241;43m4\u001b[39;49m\u001b[38;5;241;43m/\u001b[39;49m\u001b[38;5;241;43m0\u001b[39;49m\n",
      "\u001b[1;31mZeroDivisionError\u001b[0m: division by zero"
     ]
    }
   ],
   "source": [
    "4/0"
   ]
  },
  {
   "cell_type": "code",
   "execution_count": null,
   "id": "1a9d57a2-8c16-457f-864c-0a349cc80927",
   "metadata": {},
   "outputs": [],
   "source": [
    "arr1/0 # in python zero division error will come , but in numpy no error"
   ]
  },
  {
   "cell_type": "code",
   "execution_count": 112,
   "id": "0cb4cbb4-0481-4e6b-9c72-0a215991b02c",
   "metadata": {},
   "outputs": [],
   "source": [
    "#matrix multiplication >> different from index wise multiplication"
   ]
  },
  {
   "cell_type": "code",
   "execution_count": 114,
   "id": "b2a7a37b-98e8-45ec-aa8d-ed705e9efd86",
   "metadata": {},
   "outputs": [
    {
     "data": {
      "text/plain": [
       "array([[10,  6,  6],\n",
       "       [ 6,  4,  4],\n",
       "       [ 6,  4,  4]])"
      ]
     },
     "execution_count": 114,
     "metadata": {},
     "output_type": "execute_result"
    }
   ],
   "source": [
    "arr1@arr2 # 1st way to matrix multiplication"
   ]
  },
  {
   "cell_type": "code",
   "execution_count": 115,
   "id": "15055202-e2b3-4774-9684-aa38b78d53cb",
   "metadata": {},
   "outputs": [
    {
     "data": {
      "text/plain": [
       "array([[10,  6,  6],\n",
       "       [ 6,  4,  4],\n",
       "       [ 6,  4,  4]])"
      ]
     },
     "execution_count": 115,
     "metadata": {},
     "output_type": "execute_result"
    }
   ],
   "source": [
    "np.dot(arr1,arr2) #2nd  way to matrix multiplication"
   ]
  },
  {
   "cell_type": "code",
   "execution_count": 124,
   "id": "16e55a36-300e-47ea-86d6-e7e767d037d2",
   "metadata": {},
   "outputs": [
    {
     "data": {
      "text/plain": [
       "array([[0., 0., 0., 0.],\n",
       "       [0., 0., 0., 0.],\n",
       "       [0., 0., 0., 0.]])"
      ]
     },
     "execution_count": 124,
     "metadata": {},
     "output_type": "execute_result"
    }
   ],
   "source": [
    "#broadcasting\n",
    "arr=np.zeros((3,4))\n",
    "arr"
   ]
  },
  {
   "cell_type": "code",
   "execution_count": 125,
   "id": "274315d0-9b17-45e9-ba48-f999de25aaab",
   "metadata": {},
   "outputs": [
    {
     "data": {
      "text/plain": [
       "array([[5., 5., 5., 5.],\n",
       "       [5., 5., 5., 5.],\n",
       "       [5., 5., 5., 5.]])"
      ]
     },
     "execution_count": 125,
     "metadata": {},
     "output_type": "execute_result"
    }
   ],
   "source": [
    "arr+5"
   ]
  },
  {
   "cell_type": "code",
   "execution_count": 126,
   "id": "35d593b8-1fff-423e-98d2-492b32b16c56",
   "metadata": {},
   "outputs": [
    {
     "data": {
      "text/plain": [
       "array([[-5., -5., -5., -5.],\n",
       "       [-5., -5., -5., -5.],\n",
       "       [-5., -5., -5., -5.]])"
      ]
     },
     "execution_count": 126,
     "metadata": {},
     "output_type": "execute_result"
    }
   ],
   "source": [
    "arr-5"
   ]
  },
  {
   "cell_type": "code",
   "execution_count": 127,
   "id": "232cc115-1485-45a9-89b5-8a9980ecfa0f",
   "metadata": {},
   "outputs": [
    {
     "data": {
      "text/plain": [
       "array([[0., 0., 0., 0.],\n",
       "       [0., 0., 0., 0.],\n",
       "       [0., 0., 0., 0.]])"
      ]
     },
     "execution_count": 127,
     "metadata": {},
     "output_type": "execute_result"
    }
   ],
   "source": [
    "arr"
   ]
  },
  {
   "cell_type": "code",
   "execution_count": 128,
   "id": "958d8595-902f-4e41-94f8-fc004fef1a9c",
   "metadata": {},
   "outputs": [],
   "source": [
    "a= np.array([1,2,3,4])"
   ]
  },
  {
   "cell_type": "code",
   "execution_count": 129,
   "id": "9dc380fe-834a-4bb2-a91d-e8e378189c4c",
   "metadata": {},
   "outputs": [
    {
     "data": {
      "text/plain": [
       "array([1, 2, 3, 4])"
      ]
     },
     "execution_count": 129,
     "metadata": {},
     "output_type": "execute_result"
    }
   ],
   "source": [
    "a"
   ]
  },
  {
   "cell_type": "code",
   "execution_count": 130,
   "id": "a5851263-2225-4636-ba2b-3ca1842922e5",
   "metadata": {},
   "outputs": [
    {
     "data": {
      "text/plain": [
       "1"
      ]
     },
     "execution_count": 130,
     "metadata": {},
     "output_type": "execute_result"
    }
   ],
   "source": [
    "a.ndim"
   ]
  },
  {
   "cell_type": "code",
   "execution_count": 131,
   "id": "4a6899f2-6b0b-4e05-86e9-b1fa1db869cb",
   "metadata": {},
   "outputs": [
    {
     "data": {
      "text/plain": [
       "array([[1., 2., 3., 4.],\n",
       "       [1., 2., 3., 4.],\n",
       "       [1., 2., 3., 4.]])"
      ]
     },
     "execution_count": 131,
     "metadata": {},
     "output_type": "execute_result"
    }
   ],
   "source": [
    "arr+a"
   ]
  },
  {
   "cell_type": "code",
   "execution_count": 144,
   "id": "a89f44ea-4875-4075-8eb9-1e17c4538137",
   "metadata": {},
   "outputs": [],
   "source": [
    "a= np.array([[1,2,3,4]])"
   ]
  },
  {
   "cell_type": "code",
   "execution_count": 145,
   "id": "825f7d3c-4cf1-4964-adf2-56b26019639a",
   "metadata": {},
   "outputs": [
    {
     "data": {
      "text/plain": [
       "array([[1, 2, 3, 4]])"
      ]
     },
     "execution_count": 145,
     "metadata": {},
     "output_type": "execute_result"
    }
   ],
   "source": [
    "a"
   ]
  },
  {
   "cell_type": "code",
   "execution_count": 146,
   "id": "0b546a0e-69b2-416b-abe1-bcd6e164b244",
   "metadata": {},
   "outputs": [
    {
     "data": {
      "text/plain": [
       "array([[1],\n",
       "       [2],\n",
       "       [3],\n",
       "       [4]])"
      ]
     },
     "execution_count": 146,
     "metadata": {},
     "output_type": "execute_result"
    }
   ],
   "source": [
    "#Transpose\n",
    "a.T"
   ]
  },
  {
   "cell_type": "code",
   "execution_count": 147,
   "id": "114ea417-612c-49cf-9918-755afa7344c1",
   "metadata": {},
   "outputs": [
    {
     "data": {
      "text/plain": [
       "array([[2, 2, 1],\n",
       "       [1, 1, 1],\n",
       "       [1, 1, 1]])"
      ]
     },
     "execution_count": 147,
     "metadata": {},
     "output_type": "execute_result"
    }
   ],
   "source": [
    "arr1"
   ]
  },
  {
   "cell_type": "code",
   "execution_count": 148,
   "id": "2a2ed6d5-3a1e-4a4a-86cc-9b6c22f5ced2",
   "metadata": {},
   "outputs": [
    {
     "data": {
      "text/plain": [
       "array([[2, 1, 1],\n",
       "       [2, 1, 1],\n",
       "       [1, 1, 1]])"
      ]
     },
     "execution_count": 148,
     "metadata": {},
     "output_type": "execute_result"
    }
   ],
   "source": [
    "arr1.T"
   ]
  },
  {
   "cell_type": "code",
   "execution_count": 149,
   "id": "1c501fee-1b20-434d-ab2b-52ad931953d8",
   "metadata": {},
   "outputs": [
    {
     "data": {
      "text/plain": [
       "array([[1.41421356, 1.41421356, 1.        ],\n",
       "       [1.        , 1.        , 1.        ],\n",
       "       [1.        , 1.        , 1.        ]])"
      ]
     },
     "execution_count": 149,
     "metadata": {},
     "output_type": "execute_result"
    }
   ],
   "source": [
    "np.sqrt(arr1)"
   ]
  },
  {
   "cell_type": "code",
   "execution_count": 150,
   "id": "849c0168-c55f-4e0a-9a7b-c2b96f7214cb",
   "metadata": {},
   "outputs": [
    {
     "data": {
      "text/plain": [
       "array([[0.30103, 0.30103, 0.     ],\n",
       "       [0.     , 0.     , 0.     ],\n",
       "       [0.     , 0.     , 0.     ]])"
      ]
     },
     "execution_count": 150,
     "metadata": {},
     "output_type": "execute_result"
    }
   ],
   "source": [
    "np.log10(arr1)"
   ]
  },
  {
   "cell_type": "code",
   "execution_count": 151,
   "id": "922df15a-6640-483d-a2b2-552f3ee889ed",
   "metadata": {},
   "outputs": [
    {
     "data": {
      "text/plain": [
       "array([[7.3890561 , 7.3890561 , 2.71828183],\n",
       "       [2.71828183, 2.71828183, 2.71828183],\n",
       "       [2.71828183, 2.71828183, 2.71828183]])"
      ]
     },
     "execution_count": 151,
     "metadata": {},
     "output_type": "execute_result"
    }
   ],
   "source": [
    "np.exp(arr1)"
   ]
  },
  {
   "cell_type": "code",
   "execution_count": 152,
   "id": "eed5bbad-2991-4f46-a476-fde3db787dc1",
   "metadata": {},
   "outputs": [
    {
     "data": {
      "text/plain": [
       "1"
      ]
     },
     "execution_count": 152,
     "metadata": {},
     "output_type": "execute_result"
    }
   ],
   "source": [
    "np.min(arr1)"
   ]
  },
  {
   "cell_type": "code",
   "execution_count": 153,
   "id": "1ed0e640-5034-44d1-9a00-f5cd37ea97d1",
   "metadata": {},
   "outputs": [
    {
     "data": {
      "text/plain": [
       "2"
      ]
     },
     "execution_count": 153,
     "metadata": {},
     "output_type": "execute_result"
    }
   ],
   "source": [
    "np.max(arr1)"
   ]
  },
  {
   "cell_type": "code",
   "execution_count": null,
   "id": "626c6c17-3619-45be-a03c-d74b074af4f2",
   "metadata": {},
   "outputs": [],
   "source": []
  }
 ],
 "metadata": {
  "kernelspec": {
   "display_name": "Python 3 (ipykernel)",
   "language": "python",
   "name": "python3"
  },
  "language_info": {
   "codemirror_mode": {
    "name": "ipython",
    "version": 3
   },
   "file_extension": ".py",
   "mimetype": "text/x-python",
   "name": "python",
   "nbconvert_exporter": "python",
   "pygments_lexer": "ipython3",
   "version": "3.12.3"
  }
 },
 "nbformat": 4,
 "nbformat_minor": 5
}
